{
  "cells": [
    {
      "cell_type": "markdown",
      "metadata": {},
      "source": [
        "# Objective\n",
        "Predict a 'detractor' such that restaurant owner can look-up interesting (negative) feedback and act upon that.\n"
      ]
    },
    {
      "cell_type": "markdown",
      "metadata": {},
      "source": [
        "# Initialize notebook"
      ]
    },
    {
      "cell_type": "markdown",
      "metadata": {},
      "source": [
        "## Import dependencies"
      ]
    },
    {
      "cell_type": "code",
      "execution_count": null,
      "metadata": {
        "colab": {
          "base_uri": "https://localhost:8080/"
        },
        "id": "2gH9ueGhkreG",
        "outputId": "d429b40e-fa49-4314-af56-ca96adf77f1f"
      },
      "outputs": [],
      "source": [
        "import pandas as pd\n",
        "import spacy\n",
        "\n",
        "from imblearn.ensemble import BalancedRandomForestClassifier, BalancedBaggingClassifier\n",
        "from sklearn.base import TransformerMixin\n",
        "from sklearn.feature_extraction.text import CountVectorizer, TfidfVectorizer\n",
        "from sklearn.metrics import balanced_accuracy_score\n",
        "from sklearn.model_selection import StratifiedShuffleSplit\n",
        "from sklearn.tree import DecisionTreeClassifier\n"
      ]
    },
    {
      "cell_type": "markdown",
      "metadata": {},
      "source": [
        "## Set configuration"
      ]
    },
    {
      "cell_type": "code",
      "execution_count": null,
      "metadata": {},
      "outputs": [],
      "source": [
        "# Make sure all columns are printed when printing a DataFrame.\n",
        "pd.set_option(\"display.max_columns\", 50)\n",
        "pd.set_option('display.max_colwidth', 250)\n"
      ]
    },
    {
      "cell_type": "markdown",
      "metadata": {},
      "source": [
        "## Initialize spaCy model"
      ]
    },
    {
      "cell_type": "code",
      "execution_count": null,
      "metadata": {},
      "outputs": [],
      "source": [
        "nlp = spacy.load(\"nl_core_news_lg\")\n"
      ]
    },
    {
      "cell_type": "markdown",
      "metadata": {},
      "source": [
        "# Initialize data"
      ]
    },
    {
      "cell_type": "markdown",
      "metadata": {},
      "source": [
        "## Read data from source"
      ]
    },
    {
      "cell_type": "code",
      "execution_count": null,
      "metadata": {},
      "outputs": [],
      "source": [
        "data_source = \"https://bhciaaablob.blob.core.windows.net/cmotionsnlpblogs/RestoReviewRawdata.csv\"\n",
        "raw_df = pd.read_csv(filepath_or_buffer=data_source,\n",
        "                     decimal=\",\",\n",
        "                     dtype={\"restoId\": pd.Int64Dtype(),\n",
        "                            \"restoName\": str,\n",
        "                            \"tags\": str,\n",
        "                            \"address\": str,\n",
        "                            \"scoreTotal\": float,\n",
        "                            \"avgPrice\": str,\n",
        "                            \"numReviews\": pd.Int64Dtype(),\n",
        "                            \"scoreFood\": float,\n",
        "                            \"scoreService\": float,\n",
        "                            \"scoreDecor\": float,\n",
        "                            \"review_id\": pd.Int64Dtype(),\n",
        "                            \"numreviews2\": pd.Int64Dtype(),\n",
        "                            \"valueForPriceScore\": str,\n",
        "                            \"noiseLevelScore\": str,\n",
        "                            \"waitingTimeScore\": str,\n",
        "                            \"reviewerId\": str,\n",
        "                            \"reviewerFame\": str,\n",
        "                            \"reviewerNumReviews\": pd.Int64Dtype(),\n",
        "                            \"reviewDate\": str,\n",
        "                            \"reviewScoreOverall\": float,\n",
        "                            \"reviewScoreFood\": float,\n",
        "                            \"reviewScoreService\": float,\n",
        "                            \"reviewScoreAmbiance\": float,\n",
        "                            \"reviewText\": str})\n"
      ]
    },
    {
      "cell_type": "markdown",
      "metadata": {},
      "source": [
        "## Inspect raw data"
      ]
    },
    {
      "cell_type": "code",
      "execution_count": null,
      "metadata": {},
      "outputs": [],
      "source": [
        "raw_df.info()\n",
        "raw_df.sample(n=3, random_state=42)\n"
      ]
    },
    {
      "cell_type": "markdown",
      "metadata": {},
      "source": [
        "# Prepare data"
      ]
    },
    {
      "cell_type": "markdown",
      "metadata": {},
      "source": [
        "## Create copy of the raw data"
      ]
    },
    {
      "cell_type": "code",
      "execution_count": null,
      "metadata": {},
      "outputs": [],
      "source": [
        "reviews = raw_df.copy()\n"
      ]
    },
    {
      "cell_type": "markdown",
      "metadata": {},
      "source": [
        "## Drop irrelevant columns"
      ]
    },
    {
      "cell_type": "code",
      "execution_count": null,
      "metadata": {},
      "outputs": [],
      "source": [
        "print(f\"Shape before: {reviews.shape}\")\n",
        "\n",
        "reviews = reviews.drop(columns=['restoName', 'tags', 'address', 'review_id', 'reviewDate'])\n",
        "\n",
        "print(f\"Shape after: {reviews.shape}\")\n"
      ]
    },
    {
      "cell_type": "markdown",
      "metadata": {},
      "source": [
        "## Drop rows with null values"
      ]
    },
    {
      "cell_type": "code",
      "execution_count": null,
      "metadata": {},
      "outputs": [],
      "source": [
        "print(f\"Shape before: {reviews.shape}\")\n",
        "\n",
        "reviews = reviews.dropna(axis='index')\n",
        "\n",
        "print(f\"Shape after: {reviews.shape}\")\n"
      ]
    },
    {
      "cell_type": "markdown",
      "metadata": {},
      "source": [
        "## Drop invalid reviews"
      ]
    },
    {
      "cell_type": "code",
      "execution_count": null,
      "metadata": {
        "id": "Hxs-NOL5r5o3"
      },
      "outputs": [],
      "source": [
        "def is_invalid_review(review):\n",
        "    if (\"- Recensie is momenteel in behandeling -\" in review) or len(review) <= 3:\n",
        "        return True\n",
        "    else:\n",
        "        return False\n",
        "\n",
        "\n",
        "print(f\"Shape before: {reviews.shape}\")\n",
        "\n",
        "reviews = reviews.drop(index=reviews[reviews['reviewText'].apply(lambda x: is_invalid_review(x))].index)\n",
        "\n",
        "print(f\"Shape after: {reviews.shape}\")\n"
      ]
    },
    {
      "cell_type": "markdown",
      "metadata": {},
      "source": [
        "## Convert reviewText from \"bytes\" to \"string\""
      ]
    },
    {
      "cell_type": "code",
      "execution_count": null,
      "metadata": {},
      "outputs": [],
      "source": [
        "def bytes_to_string(bytes):\n",
        "    '''\n",
        "    Concat the passed argument with the UTF-8 decode statement and then evaluate the resulting statement.\n",
        "    '''\n",
        "    return eval(bytes + \".decode('utf-8')\")\n",
        "\n",
        "\n",
        "reviews['reviewText'] = reviews['reviewText'].apply(bytes_to_string)\n"
      ]
    },
    {
      "cell_type": "markdown",
      "metadata": {
        "id": "93z9CaHLmhOo"
      },
      "source": [
        "## Format avgPrice"
      ]
    },
    {
      "cell_type": "code",
      "execution_count": null,
      "metadata": {
        "id": "YoQkhlkGnyOz"
      },
      "outputs": [],
      "source": [
        "def clean_price(string):\n",
        "    '''\n",
        "    Return the last piece of the passed argument, or 0 if argument is null.\n",
        "    '''\n",
        "    return float(string.split(\" \")[-1])\n",
        "\n",
        "\n",
        "# Remove the euro sign and leading whitespace from the price.\n",
        "reviews[\"avgPrice\"] = reviews[\"avgPrice\"].apply(clean_price)\n"
      ]
    },
    {
      "cell_type": "markdown",
      "metadata": {
        "id": "8-u5eSdSoBjT"
      },
      "source": [
        "## Format ordinal columns"
      ]
    },
    {
      "cell_type": "code",
      "execution_count": null,
      "metadata": {
        "id": "4ZjO0HKVoRUX"
      },
      "outputs": [],
      "source": [
        "map_scores = {\n",
        "    \"waitingTimeScore\": {\n",
        "        None: 0,\n",
        "        \"Hoog tempo\": 1,\n",
        "        \"Kort\": 2,\n",
        "        \"Redelijk\": 3,\n",
        "        \"Kan beter\": 4,\n",
        "        \"Lang\": 5,\n",
        "    },\n",
        "    \"valueForPriceScore\": {\n",
        "        None: 0,\n",
        "        \"Erg gunstig\": 1,\n",
        "        \"Gunstig\": 2,\n",
        "        \"Redelijk\": 3,\n",
        "        \"Precies goed\": 4,\n",
        "        \"Kan beter\": 5,\n",
        "    },\n",
        "    \"noiseLevelScore\": {\n",
        "        None: 0,\n",
        "        \"Erg rustig\": 1,\n",
        "        \"Rustig\": 2,\n",
        "        \"Precies goed\": 3,\n",
        "        \"Rumoerig\": 4,\n",
        "    },\n",
        "    \"reviewerFame\": {\n",
        "        None: 0,\n",
        "        \"Proever\": 1,\n",
        "        \"Fijnproever\": 2,\n",
        "        \"Expertproever\": 3,\n",
        "        \"Meesterproever\": 4\n",
        "    }\n",
        "}\n",
        "\n",
        "for col in map_scores.keys():\n",
        "    reviews[col] = reviews[col].apply(lambda x: map_scores[col].get(x, None)).astype(\"Int64\")\n"
      ]
    },
    {
      "cell_type": "markdown",
      "metadata": {
        "id": "9BXVyWnQvZ9P"
      },
      "source": [
        "## Add feature: length of reviewText"
      ]
    },
    {
      "cell_type": "code",
      "execution_count": null,
      "metadata": {
        "id": "6uma80i9vmd_"
      },
      "outputs": [],
      "source": [
        "reviews['reviewTextLength'] = reviews['reviewText'].apply(lambda x: len(x)).astype(\"Int64\")\n"
      ]
    },
    {
      "cell_type": "markdown",
      "metadata": {},
      "source": [
        "## Inspect preprocessed data"
      ]
    },
    {
      "cell_type": "code",
      "execution_count": null,
      "metadata": {},
      "outputs": [],
      "source": [
        "reviews.info()\n",
        "reviews.sample(n=3, random_state=42)\n"
      ]
    },
    {
      "cell_type": "markdown",
      "metadata": {
        "id": "3VCQPqZKp4AK"
      },
      "source": [
        "# Text pre-processing"
      ]
    },
    {
      "cell_type": "markdown",
      "metadata": {},
      "source": [
        "## Specify a subset of the data to be used for training\n",
        "<span style='color:red'>When using full data, the cells below may take **very long** to complete.</span>\\\n",
        "<span style='color:red'>Using **25% of the data** it will take about **15 minutes** to complete on a laptop.</span>"
      ]
    },
    {
      "cell_type": "code",
      "execution_count": null,
      "metadata": {},
      "outputs": [],
      "source": [
        "reviews = reviews.sample(frac=0.25, random_state=42)\n"
      ]
    },
    {
      "cell_type": "markdown",
      "metadata": {
        "id": "AkgXBreJsH8z"
      },
      "source": [
        "## Tokenize and create Document-Term Matrix"
      ]
    },
    {
      "cell_type": "code",
      "execution_count": null,
      "metadata": {
        "colab": {
          "base_uri": "https://localhost:8080/"
        },
        "id": "2-HflkHnscpd",
        "outputId": "8e8e91bf-20a4-410f-94ee-55c9c9be5da4"
      },
      "outputs": [],
      "source": [
        "# %%time\n",
        "# THIS CELL TAKES ABOUT 12 MINUTES ON A LAPTOP WHEN USING 25% THE DATA.\n",
        "\n",
        "def tokenize_simple(text):\n",
        "    '''\n",
        "    Tokenizer returning lowercase tokens with no stop words, no punctuation and no words with encoding errors.\n",
        "    '''\n",
        "    doc = nlp(text)\n",
        "    return [token.lower_ for token in doc if not (token.is_stop or token.is_punct or (\"\\\\\" in token.lower_))]\n",
        "\n",
        "\n",
        "# Some abbreviations aren't in spaCy's default Dutch stopwords list, so we add them.\n",
        "nlp.Defaults.stop_words.update(['n', '’n', 't'])\n",
        "\n",
        "# Define the CountVectorizer, use n-grams of length 1.\n",
        "count_vectorizer = CountVectorizer(tokenizer=tokenize_simple,\n",
        "                                   stop_words=nlp.Defaults.stop_words,\n",
        "                                   ngram_range=(1, 1))\n",
        "\n",
        "# Fit the CountVectorizer. The returned Document-Term Matrix is put in a DataFrame.\n",
        "dtm = pd.DataFrame.sparse.from_spmatrix(data=count_vectorizer.fit_transform(reviews['reviewText']),\n",
        "                                        index=reviews['reviewText'].index,\n",
        "                                        columns=count_vectorizer.get_feature_names_out())\n"
      ]
    },
    {
      "cell_type": "code",
      "execution_count": null,
      "metadata": {},
      "outputs": [],
      "source": [
        "# Inspect the tokenization to the original reviewText for some observations.\n",
        "display(pd.DataFrame(reviews.head(n=3)['reviewText']))\n",
        "\n",
        "subset = dtm.head(n=3).copy()\n",
        "display(subset.loc[:, subset.ne(0).any()])\n"
      ]
    },
    {
      "cell_type": "markdown",
      "metadata": {
        "id": "zMK0eFY9NZrz"
      },
      "source": [
        "## Select only those words that occur twice or more."
      ]
    },
    {
      "cell_type": "code",
      "execution_count": null,
      "metadata": {
        "colab": {
          "base_uri": "https://localhost:8080/"
        },
        "id": "sOzA_2btLesV",
        "outputId": "f1727982-1e53-4af0-fc62-c0012449c938"
      },
      "outputs": [],
      "source": [
        "print(f\"Full DTM: {dtm.shape}\")\n",
        "dtm = dtm.loc[:, (dtm.sum() > 2)]\n",
        "print(f\"Filtered DTM: {dtm.shape}\")\n"
      ]
    },
    {
      "cell_type": "markdown",
      "metadata": {
        "id": "9QOmgqE2w6Yw"
      },
      "source": [
        "# Binary classification"
      ]
    },
    {
      "cell_type": "markdown",
      "metadata": {
        "id": "gMfvALr-xxkc"
      },
      "source": [
        "## Define Y"
      ]
    },
    {
      "cell_type": "code",
      "execution_count": null,
      "metadata": {
        "id": "JlsdS0FZx2Kc"
      },
      "outputs": [],
      "source": [
        "reviews[\"is_detractor\"] = reviews['reviewScoreOverall'].apply(lambda x: True if x <= 6 else False)\n"
      ]
    },
    {
      "cell_type": "markdown",
      "metadata": {
        "id": "RVQwGzDeyER4"
      },
      "source": [
        "## Train-test split"
      ]
    },
    {
      "cell_type": "code",
      "execution_count": null,
      "metadata": {
        "colab": {
          "base_uri": "https://localhost:8080/"
        },
        "id": "M-fRiXteyFiF",
        "outputId": "af85aac2-a7bd-4ea2-a3e0-4766216cf447"
      },
      "outputs": [],
      "source": [
        "# %%time\n",
        "# THIS CELL TAKES ABOUT 1 MINUTE ON A LAPTOP WHEN USING 25% THE DATA.\n",
        "\n",
        "X = reviews.drop(columns=['reviewText','reviewScoreOverall','is_detractor'])\n",
        "y = reviews['is_detractor']\n",
        "\n",
        "sss = StratifiedShuffleSplit(n_splits=1, test_size=0.2, random_state=42)\n",
        "for train_index, test_index in sss.split(X, y):\n",
        "    X_train, X_test = X.iloc[train_index, :], X.iloc[test_index, :]\n",
        "    y_train, y_test = y.iloc[train_index], y.iloc[test_index]\n",
        "    X_train_dtm, X_test_dtm = dtm.iloc[train_index, :], dtm.iloc[test_index, :]\n"
      ]
    },
    {
      "cell_type": "markdown",
      "metadata": {
        "id": "qYS0K_jf4cCM"
      },
      "source": [
        "## BalancedBaggingClassifier - using structured data"
      ]
    },
    {
      "cell_type": "code",
      "execution_count": null,
      "metadata": {
        "colab": {
          "base_uri": "https://localhost:8080/"
        },
        "id": "zONADb3Q0cUU",
        "outputId": "6efda006-b524-4cdb-9744-ac1b92fce97b"
      },
      "outputs": [],
      "source": [
        "clf1 = BalancedBaggingClassifier(base_estimator=DecisionTreeClassifier(),\n",
        "                                 sampling_strategy='auto',\n",
        "                                 replacement=False,\n",
        "                                 random_state=0)\n",
        "clf1.fit(X_train, y_train)\n"
      ]
    },
    {
      "cell_type": "code",
      "execution_count": null,
      "metadata": {
        "colab": {
          "base_uri": "https://localhost:8080/"
        },
        "id": "UI-edVTr2SxA",
        "outputId": "8aec2b61-b2c8-4a98-aebf-0ebd180e2d2f"
      },
      "outputs": [],
      "source": [
        "balanced_accuracy_score(y_test, clf1.predict(X_test)).round(3)\n"
      ]
    },
    {
      "cell_type": "markdown",
      "metadata": {
        "id": "8h1CYS6F9E9B"
      },
      "source": [
        "## BalancedBaggingClassifier - using DTM"
      ]
    },
    {
      "cell_type": "code",
      "execution_count": null,
      "metadata": {
        "colab": {
          "base_uri": "https://localhost:8080/"
        },
        "id": "eZH6hYFAHpPT",
        "outputId": "f66accb5-0e34-4486-a75c-a43a0ad6f408"
      },
      "outputs": [],
      "source": [
        "clf2 = BalancedBaggingClassifier(base_estimator=DecisionTreeClassifier(),\n",
        "                                 sampling_strategy='auto',\n",
        "                                 replacement=False,\n",
        "                                 random_state=0)\n",
        "clf2.fit(X_train_dtm, y_train)\n"
      ]
    },
    {
      "cell_type": "code",
      "execution_count": null,
      "metadata": {
        "colab": {
          "base_uri": "https://localhost:8080/"
        },
        "id": "N2qh0773Jfqp",
        "outputId": "d7468855-5890-455f-f3b2-c68af698cb1f"
      },
      "outputs": [],
      "source": [
        "balanced_accuracy_score(y_test, clf2.predict(X_test_dtm)).round(3)\n"
      ]
    }
  ],
  "metadata": {
    "colab": {
      "authorship_tag": "ABX9TyNLFOgZKWZQGuRni5kSmwqD",
      "collapsed_sections": [],
      "include_colab_link": true,
      "name": "nlp-pipeline-example.ipynb",
      "provenance": [],
      "toc_visible": true
    },
    "kernelspec": {
      "display_name": "Python 3.9.15 ('py39ds')",
      "language": "python",
      "name": "python3"
    },
    "language_info": {
      "codemirror_mode": {
        "name": "ipython",
        "version": 3
      },
      "file_extension": ".py",
      "mimetype": "text/x-python",
      "name": "python",
      "nbconvert_exporter": "python",
      "pygments_lexer": "ipython3",
      "version": "3.9.15"
    },
    "vscode": {
      "interpreter": {
        "hash": "8856fd46eb1c8f9ac10e084fbdbb878e93cf2267516bbafff0dfd79e997a779a"
      }
    }
  },
  "nbformat": 4,
  "nbformat_minor": 2
}
